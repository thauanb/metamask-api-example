{
 "cells": [
  {
   "cell_type": "code",
   "execution_count": 1,
   "metadata": {},
   "outputs": [],
   "source": [
    "\n",
    "from web3 import Web3\n",
    "from dotenv import load_dotenv\n",
    "from os import getenv"
   ]
  },
  {
   "cell_type": "code",
   "execution_count": 2,
   "metadata": {},
   "outputs": [
    {
     "data": {
      "text/plain": [
       "'0x04dB032B9eFAfA4cBD794cf8567f726872578a22'"
      ]
     },
     "execution_count": 2,
     "metadata": {},
     "output_type": "execute_result"
    }
   ],
   "source": [
    "API_KEY = getenv(\"API_KEY\")\n",
    "metamask_endpoint = \"https://arbitrum-mainnet.infura.io/v3/\"+API_KEY\n",
    "metamask_address = {\n",
    "  'ARBITRUM':'0x04dB032B9eFAfA4cBD794cf8567f726872578a22'\n",
    "  }\n",
    "metamask_address['ARBITRUM']"
   ]
  },
  {
   "cell_type": "code",
   "execution_count": 3,
   "metadata": {},
   "outputs": [
    {
     "name": "stdout",
     "output_type": "stream",
     "text": [
      "[+] Conectado ao Endpoint Arbitrum\n",
      "Saldo da carteira 0x04dB032B9eFAfA4cBD794cf8567f726872578a22 -> 0.00036321668 ETH\n"
     ]
    }
   ],
   "source": [
    "web3 = Web3(Web3.HTTPProvider(metamask_endpoint))\n",
    "if (web3.is_connected == False):\n",
    "  raise Exception(\"Erro ao se conectar ao endpoint\")\n",
    "print('[+] Conectado ao Endpoint Arbitrum')\n",
    "balance_wei = web3.eth.get_balance(metamask_address['ARBITRUM'])\n",
    "balance_eth  = web3.from_wei(balance_wei,'ether')\n",
    "balance_eth\n",
    "print(f\"Saldo da carteira {metamask_address['ARBITRUM']} -> {balance_eth} ETH\")"
   ]
  },
  {
   "cell_type": "markdown",
   "metadata": {},
   "source": []
  }
 ],
 "metadata": {
  "kernelspec": {
   "display_name": "Python 3",
   "language": "python",
   "name": "python3"
  },
  "language_info": {
   "codemirror_mode": {
    "name": "ipython",
    "version": 3
   },
   "file_extension": ".py",
   "mimetype": "text/x-python",
   "name": "python",
   "nbconvert_exporter": "python",
   "pygments_lexer": "ipython3",
   "version": "3.12.4"
  }
 },
 "nbformat": 4,
 "nbformat_minor": 2
}
